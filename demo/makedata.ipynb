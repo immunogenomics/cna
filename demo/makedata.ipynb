{
 "cells": [
  {
   "cell_type": "markdown",
   "metadata": {
    "Collapsed": "false"
   },
   "source": [
    "# Synthetic dataset generation for CNA demo"
   ]
  },
  {
   "cell_type": "code",
   "execution_count": 1,
   "metadata": {
    "Collapsed": "false"
   },
   "outputs": [
    {
     "name": "stderr",
     "output_type": "stream",
     "text": [
      "/PHShome/yr073/anaconda3/lib/python3.7/site-packages/anndata/_core/anndata.py:21: FutureWarning: pandas.core.index is deprecated and will be removed in a future version.  The public classes are available in the top-level namespace.\n",
      "  from pandas.core.index import RangeIndex\n"
     ]
    }
   ],
   "source": [
    "import numpy as np\n",
    "import pandas as pd\n",
    "import multianndata as mad\n",
    "import scanpy as sc\n",
    "np.random.seed(0)"
   ]
  },
  {
   "cell_type": "code",
   "execution_count": 2,
   "metadata": {
    "Collapsed": "false"
   },
   "outputs": [],
   "source": [
    "# basic parameters\n",
    "N = 50 # number of samples\n",
    "G = 50 # number of genes\n",
    "C = 200 # number of cells per sample\n",
    "noise = 1"
   ]
  },
  {
   "cell_type": "code",
   "execution_count": 3,
   "metadata": {
    "Collapsed": "false"
   },
   "outputs": [],
   "source": [
    "# assign covariates to samples\n",
    "covs = pd.DataFrame(index=pd.Series(np.arange(N), name='id', dtype=int))\n",
    "covs['case'] = [0]*int(N/2) + [1]*int(N/2)\n",
    "covs['male'] = [0]*int(2*N/8) + [1]*int(2*N/8) + [0]*int(2*N/8) + [1]*(N - int(2*N/8)-int(2*N/8)-int(2*N/8))\n",
    "covs['baseline'] = 1"
   ]
  },
  {
   "cell_type": "code",
   "execution_count": 4,
   "metadata": {
    "Collapsed": "false"
   },
   "outputs": [],
   "source": [
    "# define GE profile of cell populations\n",
    "H = np.zeros((3, G))\n",
    "H[0,:int(G/2)] = 1\n",
    "H[1,int(G/2):] = 1\n",
    "H[2,:int(G/2)] = 1; H[2,:int(G/4)] = 2\n",
    "\n",
    "# define cell ids for the cells in each sample\n",
    "def getW(props):\n",
    "    cell_ids = np.concatenate([np.array([i]*int(p*C)) for i,p in enumerate(props)])\n",
    "    cell_ids = np.concatenate([cell_ids, np.array([len(props)]*int(C-len(cell_ids)))])\n",
    "    W = np.zeros((int(C), len(props) + 1))\n",
    "    for i in range(len(props) + 1):\n",
    "        W[np.where(cell_ids == i)[0], i] = 1\n",
    "    return W\n",
    "\n",
    "props = np.array([\n",
    "    [0.2, -0.2], #case\n",
    "    [-0.2, 0], #male\n",
    "    [0.5, 0.5]  #baseline\n",
    "])\n",
    "Ws = np.array([getW(c.dot(props)) for _, c in covs.iterrows()])\n",
    "\n",
    "# create single-cell data\n",
    "X = np.concatenate([W.dot(H) + noise*np.random.randn(C, G) for W in Ws])\n",
    "\n",
    "# create multianndata object\n",
    "d = mad.MultiAnnData(X=X,\n",
    "                     obs=pd.DataFrame({'id':np.repeat(covs.index, C)},\n",
    "                                      index=pd.Series(['cell_'+str(x) for x in np.arange(len(X))], name='cell', dtype=str)),\n",
    "                     samplem=covs.drop(columns=['baseline']))\n",
    "d.samplem['batch'] = np.tile(range(5), int(N/5))\n",
    "d.var = pd.DataFrame(index=pd.Series(['gene_'+str(i) for i in range(G)], name='gene', dtype=str))"
   ]
  },
  {
   "cell_type": "code",
   "execution_count": 5,
   "metadata": {
    "Collapsed": "false"
   },
   "outputs": [],
   "source": [
    "%%capture --no-stdout\n",
    "sc.pp.neighbors(d)\n",
    "sc.tl.umap(d)"
   ]
  },
  {
   "cell_type": "code",
   "execution_count": 6,
   "metadata": {
    "Collapsed": "false"
   },
   "outputs": [],
   "source": [
    "d.write('data_multianndata.h5ad')"
   ]
  },
  {
   "cell_type": "code",
   "execution_count": 7,
   "metadata": {
    "Collapsed": "false"
   },
   "outputs": [],
   "source": [
    "%%capture --no-stdout\n",
    "# strip data down to an ordinary anndata object so that demo users can learn to how to create a multianndata object\n",
    "d.obs = pd.merge(d.obs, d.samplem, left_on='id', right_index=True, how='left')\n",
    "\n",
    "import anndata as ad\n",
    "d = ad.AnnData(X=d.X, obs=d.obs, var=d.var)\n",
    "sc.pp.neighbors(d)\n",
    "sc.tl.umap(d)\n",
    "d.write('data_anndata.h5ad')"
   ]
  }
 ],
 "metadata": {
  "kernelspec": {
   "display_name": "Python 3",
   "language": "python",
   "name": "python3"
  },
  "language_info": {
   "codemirror_mode": {
    "name": "ipython",
    "version": 3
   },
   "file_extension": ".py",
   "mimetype": "text/x-python",
   "name": "python",
   "nbconvert_exporter": "python",
   "pygments_lexer": "ipython3",
   "version": "3.7.3"
  }
 },
 "nbformat": 4,
 "nbformat_minor": 4
}
